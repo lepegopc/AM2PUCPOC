{
  "nbformat": 4,
  "nbformat_minor": 0,
  "metadata": {
    "colab": {
      "name": "Exemplo_MinMaxScaler.ipynb",
      "provenance": [],
      "collapsed_sections": []
    },
    "kernelspec": {
      "name": "python3",
      "display_name": "Python 3"
    },
    "accelerator": "GPU"
  },
  "cells": [
    {
      "cell_type": "markdown",
      "metadata": {
        "id": "nxJfRe4bfYVA"
      },
      "source": [
        "## Conjuntos de dados\r\n",
        "\r\n",
        "Fonte: https://br.financas.yahoo.com/quote/GOOG/history?p=GOOG\r\n",
        "\r\n",
        "- Dados de treinamento: valores de abertura (*Open*) da bolsa no período de 02-01-2015 até 30-12-2019 (arquivo: **GOOG_train.csv**)\r\n",
        "\r\n",
        "- Dados de teste: valores de abertura (*Open*) da bolsa no período de 02-01-2020 até 30-01-2020 (arquivo: **GOOG_train.test**)\r\n",
        "\r\n",
        "- Janela temporal (*timesteps*): 60 dias\r\n",
        "\r\n"
      ]
    },
    {
      "cell_type": "markdown",
      "metadata": {
        "id": "SgK6xTSQM9cA"
      },
      "source": [
        "## Clona repositório de dados da disciplina hospedado no GitHUb"
      ]
    },
    {
      "cell_type": "code",
      "metadata": {
        "id": "1SP-2hEvNDAA",
        "colab": {
          "base_uri": "https://localhost:8080/"
        },
        "outputId": "b1301ed2-6888-4e87-cb76-42a40a685ffb"
      },
      "source": [
        "!git clone \"https://github.com/malegopc/AM2PUCPOC\""
      ],
      "execution_count": 1,
      "outputs": [
        {
          "output_type": "stream",
          "text": [
            "Cloning into 'AM2PUCPOC'...\n",
            "remote: Enumerating objects: 133, done.\u001b[K\n",
            "remote: Total 133 (delta 0), reused 0 (delta 0), pack-reused 133\u001b[K\n",
            "Receiving objects: 100% (133/133), 3.20 MiB | 25.04 MiB/s, done.\n",
            "Resolving deltas: 100% (26/26), done.\n"
          ],
          "name": "stdout"
        }
      ]
    },
    {
      "cell_type": "markdown",
      "metadata": {
        "id": "RfbvuLvTwx2w"
      },
      "source": [
        "## Leitura e preparação dos dados\r\n",
        "\r\n",
        "Vamos começar importando o arquivo CSV com os dados de treinamento usando o Pandas."
      ]
    },
    {
      "cell_type": "code",
      "metadata": {
        "colab": {
          "base_uri": "https://localhost:8080/",
          "height": 419
        },
        "id": "AIvPtcO1w2KN",
        "outputId": "fe2fc767-7cd8-49e3-d386-95f6c12322c2"
      },
      "source": [
        "import pandas as pd\r\n",
        "# lê arquivo de dados\r\n",
        "dataset_train = pd.read_csv('AM2PUCPOC/Datasets/Ações_Google/GOOG_train.csv')\r\n",
        "# mostra os dados\r\n",
        "dataset_train"
      ],
      "execution_count": 4,
      "outputs": [
        {
          "output_type": "execute_result",
          "data": {
            "text/html": [
              "<div>\n",
              "<style scoped>\n",
              "    .dataframe tbody tr th:only-of-type {\n",
              "        vertical-align: middle;\n",
              "    }\n",
              "\n",
              "    .dataframe tbody tr th {\n",
              "        vertical-align: top;\n",
              "    }\n",
              "\n",
              "    .dataframe thead th {\n",
              "        text-align: right;\n",
              "    }\n",
              "</style>\n",
              "<table border=\"1\" class=\"dataframe\">\n",
              "  <thead>\n",
              "    <tr style=\"text-align: right;\">\n",
              "      <th></th>\n",
              "      <th>Date</th>\n",
              "      <th>Open</th>\n",
              "      <th>High</th>\n",
              "      <th>Low</th>\n",
              "      <th>Close</th>\n",
              "      <th>Adj Close</th>\n",
              "      <th>Volume</th>\n",
              "    </tr>\n",
              "  </thead>\n",
              "  <tbody>\n",
              "    <tr>\n",
              "      <th>0</th>\n",
              "      <td>2015-01-02</td>\n",
              "      <td>527.561584</td>\n",
              "      <td>529.815369</td>\n",
              "      <td>522.665039</td>\n",
              "      <td>523.373108</td>\n",
              "      <td>523.373108</td>\n",
              "      <td>1447500</td>\n",
              "    </tr>\n",
              "    <tr>\n",
              "      <th>1</th>\n",
              "      <td>2015-01-05</td>\n",
              "      <td>521.827332</td>\n",
              "      <td>522.894409</td>\n",
              "      <td>511.655243</td>\n",
              "      <td>512.463013</td>\n",
              "      <td>512.463013</td>\n",
              "      <td>2059800</td>\n",
              "    </tr>\n",
              "    <tr>\n",
              "      <th>2</th>\n",
              "      <td>2015-01-06</td>\n",
              "      <td>513.589966</td>\n",
              "      <td>514.761719</td>\n",
              "      <td>499.678131</td>\n",
              "      <td>500.585632</td>\n",
              "      <td>500.585632</td>\n",
              "      <td>2899900</td>\n",
              "    </tr>\n",
              "    <tr>\n",
              "      <th>3</th>\n",
              "      <td>2015-01-07</td>\n",
              "      <td>505.611847</td>\n",
              "      <td>505.855164</td>\n",
              "      <td>498.281952</td>\n",
              "      <td>499.727997</td>\n",
              "      <td>499.727997</td>\n",
              "      <td>2065000</td>\n",
              "    </tr>\n",
              "    <tr>\n",
              "      <th>4</th>\n",
              "      <td>2015-01-08</td>\n",
              "      <td>496.626526</td>\n",
              "      <td>502.101471</td>\n",
              "      <td>489.655640</td>\n",
              "      <td>501.303680</td>\n",
              "      <td>501.303680</td>\n",
              "      <td>3353500</td>\n",
              "    </tr>\n",
              "    <tr>\n",
              "      <th>...</th>\n",
              "      <td>...</td>\n",
              "      <td>...</td>\n",
              "      <td>...</td>\n",
              "      <td>...</td>\n",
              "      <td>...</td>\n",
              "      <td>...</td>\n",
              "      <td>...</td>\n",
              "    </tr>\n",
              "    <tr>\n",
              "      <th>1252</th>\n",
              "      <td>2019-12-23</td>\n",
              "      <td>1355.869995</td>\n",
              "      <td>1359.800049</td>\n",
              "      <td>1346.510010</td>\n",
              "      <td>1348.839966</td>\n",
              "      <td>1348.839966</td>\n",
              "      <td>883100</td>\n",
              "    </tr>\n",
              "    <tr>\n",
              "      <th>1253</th>\n",
              "      <td>2019-12-24</td>\n",
              "      <td>1348.500000</td>\n",
              "      <td>1350.260010</td>\n",
              "      <td>1342.780029</td>\n",
              "      <td>1343.560059</td>\n",
              "      <td>1343.560059</td>\n",
              "      <td>347500</td>\n",
              "    </tr>\n",
              "    <tr>\n",
              "      <th>1254</th>\n",
              "      <td>2019-12-26</td>\n",
              "      <td>1346.170044</td>\n",
              "      <td>1361.327026</td>\n",
              "      <td>1344.469971</td>\n",
              "      <td>1360.400024</td>\n",
              "      <td>1360.400024</td>\n",
              "      <td>667500</td>\n",
              "    </tr>\n",
              "    <tr>\n",
              "      <th>1255</th>\n",
              "      <td>2019-12-27</td>\n",
              "      <td>1362.989990</td>\n",
              "      <td>1364.530029</td>\n",
              "      <td>1349.310059</td>\n",
              "      <td>1351.890015</td>\n",
              "      <td>1351.890015</td>\n",
              "      <td>1038400</td>\n",
              "    </tr>\n",
              "    <tr>\n",
              "      <th>1256</th>\n",
              "      <td>2019-12-30</td>\n",
              "      <td>1350.000000</td>\n",
              "      <td>1353.000000</td>\n",
              "      <td>1334.020020</td>\n",
              "      <td>1336.140015</td>\n",
              "      <td>1336.140015</td>\n",
              "      <td>1050900</td>\n",
              "    </tr>\n",
              "  </tbody>\n",
              "</table>\n",
              "<p>1257 rows × 7 columns</p>\n",
              "</div>"
            ],
            "text/plain": [
              "            Date         Open         High  ...        Close    Adj Close   Volume\n",
              "0     2015-01-02   527.561584   529.815369  ...   523.373108   523.373108  1447500\n",
              "1     2015-01-05   521.827332   522.894409  ...   512.463013   512.463013  2059800\n",
              "2     2015-01-06   513.589966   514.761719  ...   500.585632   500.585632  2899900\n",
              "3     2015-01-07   505.611847   505.855164  ...   499.727997   499.727997  2065000\n",
              "4     2015-01-08   496.626526   502.101471  ...   501.303680   501.303680  3353500\n",
              "...          ...          ...          ...  ...          ...          ...      ...\n",
              "1252  2019-12-23  1355.869995  1359.800049  ...  1348.839966  1348.839966   883100\n",
              "1253  2019-12-24  1348.500000  1350.260010  ...  1343.560059  1343.560059   347500\n",
              "1254  2019-12-26  1346.170044  1361.327026  ...  1360.400024  1360.400024   667500\n",
              "1255  2019-12-27  1362.989990  1364.530029  ...  1351.890015  1351.890015  1038400\n",
              "1256  2019-12-30  1350.000000  1353.000000  ...  1336.140015  1336.140015  1050900\n",
              "\n",
              "[1257 rows x 7 columns]"
            ]
          },
          "metadata": {
            "tags": []
          },
          "execution_count": 4
        }
      ]
    },
    {
      "cell_type": "markdown",
      "metadata": {
        "id": "7j5_rnal0Jhv"
      },
      "source": [
        "## Separa os atributos de treinamento\r\n",
        "\r\n",
        "Extrai a coluna \"Open\" (valores de abertura da ação).\r\n"
      ]
    },
    {
      "cell_type": "code",
      "metadata": {
        "colab": {
          "base_uri": "https://localhost:8080/"
        },
        "id": "yBbVG5Ju0SYP",
        "outputId": "73606df7-44ea-4f31-cc5e-bcd18e308963"
      },
      "source": [
        "training_set = dataset_train.iloc[:, 1:2].values # coluna 1\r\n",
        "print(training_set)\r\n",
        "print(training_set.shape)"
      ],
      "execution_count": 5,
      "outputs": [
        {
          "output_type": "stream",
          "text": [
            "[[ 527.561584]\n",
            " [ 521.827332]\n",
            " [ 513.589966]\n",
            " ...\n",
            " [1346.170044]\n",
            " [1362.98999 ]\n",
            " [1350.      ]]\n",
            "(1257, 1)\n"
          ],
          "name": "stdout"
        }
      ]
    },
    {
      "cell_type": "markdown",
      "metadata": {
        "id": "HT8_2UJegtG5"
      },
      "source": [
        "## Escalonamento dos dados\r\n",
        "\r\n",
        "Normaliza os dados para o intervalo [0,1]."
      ]
    },
    {
      "cell_type": "code",
      "metadata": {
        "id": "OTrF2kR7gx9x",
        "colab": {
          "base_uri": "https://localhost:8080/"
        },
        "outputId": "1e94a09e-1390-4dc5-e403-31b5c7c5087a"
      },
      "source": [
        "from sklearn.preprocessing import MinMaxScaler\n",
        "sc = MinMaxScaler(feature_range = (0, 1))\n",
        "sc.fit(training_set)\n",
        "training_set_scaled = sc.transform(training_set)\n",
        "print(sc.data_min_)\n",
        "print(sc.data_max_)\n",
        "#training_set_scaled = sc.fit_transform(training_set)"
      ],
      "execution_count": 9,
      "outputs": [
        {
          "output_type": "stream",
          "text": [
            "[493.295654]\n",
            "[1363.349976]\n"
          ],
          "name": "stdout"
        }
      ]
    },
    {
      "cell_type": "markdown",
      "metadata": {
        "id": "s3lS-1eX2iGs"
      },
      "source": [
        "## Gráfico dos dados originais e escalonados"
      ]
    },
    {
      "cell_type": "code",
      "metadata": {
        "colab": {
          "base_uri": "https://localhost:8080/",
          "height": 336
        },
        "id": "AlSW4nHsq__u",
        "outputId": "31863f6e-bf4f-4a2b-b3f0-00060a2a1c09"
      },
      "source": [
        "import matplotlib.pyplot as plt\r\n",
        "plt.figure(figsize=(15,5))\r\n",
        "plt.subplot(1, 2, 1)\r\n",
        "plt.title(\"Dados originais\")\r\n",
        "plt.plot(training_set)\r\n",
        "plt.grid(True)\r\n",
        "\r\n",
        "plt.subplot(1, 2, 2)\r\n",
        "plt.title(\"Dados escalonados (pós MinMaxScaler())\")\r\n",
        "plt.plot(training_set_scaled)\r\n",
        "plt.grid(True)\r\n",
        "plt.show()"
      ],
      "execution_count": 8,
      "outputs": [
        {
          "output_type": "display_data",
          "data": {
            "image/png": "[encoded data removed]",
            "text/plain": [
              "<Figure size 1080x360 with 2 Axes>"
            ]
          },
          "metadata": {
            "tags": [],
            "needs_background": "light"
          }
        }
      ]
    }
  ]
}