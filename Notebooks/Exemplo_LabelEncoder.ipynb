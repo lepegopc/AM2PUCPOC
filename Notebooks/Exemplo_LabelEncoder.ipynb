{
  "nbformat": 4,
  "nbformat_minor": 0,
  "metadata": {
    "colab": {
      "name": "Exemplo_LabelEncoder.ipynb",
      "provenance": [],
      "collapsed_sections": []
    },
    "kernelspec": {
      "name": "python3",
      "display_name": "Python 3"
    }
  },
  "cells": [
    {
      "cell_type": "markdown",
      "metadata": {
        "id": "3JjPtt6rPrKl"
      },
      "source": [
        "## Exemplo de uso do LabelEncoder"
      ]
    },
    {
      "cell_type": "code",
      "metadata": {
        "colab": {
          "base_uri": "https://localhost:8080/"
        },
        "id": "5N2P_z9jPqWc",
        "outputId": "9f611d83-445d-4f9e-d8b2-ebbbf2aae38a"
      },
      "source": [
        "from sklearn.preprocessing import LabelEncoder\r\n",
        "\r\n",
        "X = [\"Red\", \"Green\", \"Blue\"] #variável categórica\r\n",
        "le = LabelEncoder()\r\n",
        "le.fit(X)\r\n",
        "X_encoder = le.transform(X)\r\n",
        "print(X_encoder)"
      ],
      "execution_count": 7,
      "outputs": [
        {
          "output_type": "stream",
          "text": [
            "[2 1 0]\n"
          ],
          "name": "stdout"
        }
      ]
    },
    {
      "cell_type": "markdown",
      "metadata": {
        "id": "uy1kYIPDRuvL"
      },
      "source": [
        "###Transformação inversa"
      ]
    },
    {
      "cell_type": "code",
      "metadata": {
        "colab": {
          "base_uri": "https://localhost:8080/"
        },
        "id": "GrJzApU-RxxC",
        "outputId": "e30427a0-000f-4698-9870-ca26f7f6c616"
      },
      "source": [
        "print(le.inverse_transform(X_encoder))"
      ],
      "execution_count": 8,
      "outputs": [
        {
          "output_type": "stream",
          "text": [
            "['Red' 'Green' 'Blue']\n"
          ],
          "name": "stdout"
        }
      ]
    }
  ]
}