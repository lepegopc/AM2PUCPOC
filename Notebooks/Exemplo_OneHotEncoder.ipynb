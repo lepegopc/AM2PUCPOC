{
  "nbformat": 4,
  "nbformat_minor": 0,
  "metadata": {
    "colab": {
      "name": "Exemplo_OneHotEncoder.ipynb",
      "provenance": [],
      "collapsed_sections": []
    },
    "kernelspec": {
      "name": "python3",
      "display_name": "Python 3"
    }
  },
  "cells": [
    {
      "cell_type": "markdown",
      "metadata": {
        "id": "3JjPtt6rPrKl"
      },
      "source": [
        "## Exemplo de uso do OneHotEncoder\r\n",
        "\r\n"
      ]
    },
    {
      "cell_type": "code",
      "metadata": {
        "id": "5N2P_z9jPqWc"
      },
      "source": [
        "from sklearn.preprocessing import OneHotEncoder\r\n",
        "import numpy as np\r\n",
        "X = np.array([['Red'], ['Green'], ['Blue']]) # variável categórica na forma de um array bidimensional (matriz)\r\n",
        "enc = OneHotEncoder(sparse = False) # cria objeto com argumento sparse = False para retornar uma matriz\r\n",
        "enc.fit(X) # ajusta na variável de entrada\r\n",
        "X_encoder = enc.transform(X) # aplica a transformação na variável de entrada\r\n",
        "print(X_encoder)"
      ],
      "execution_count": null,
      "outputs": []
    },
    {
      "cell_type": "markdown",
      "metadata": {
        "id": "uy1kYIPDRuvL"
      },
      "source": [
        "###Transformação inversa"
      ]
    },
    {
      "cell_type": "code",
      "metadata": {
        "id": "GrJzApU-RxxC"
      },
      "source": [
        "print(enc.inverse_transform(X_encoder))"
      ],
      "execution_count": null,
      "outputs": []
    }
  ]
}