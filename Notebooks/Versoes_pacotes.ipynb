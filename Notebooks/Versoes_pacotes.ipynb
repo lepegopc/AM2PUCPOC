{
  "nbformat": 4,
  "nbformat_minor": 0,
  "metadata": {
    "colab": {
      "name": "Versões_pacotes.ipynb",
      "provenance": []
    },
    "kernelspec": {
      "name": "python3",
      "display_name": "Python 3"
    }
  },
  "cells": [
    {
      "cell_type": "code",
      "metadata": {
        "colab": {
          "base_uri": "https://localhost:8080/"
        },
        "id": "lBL32eES_NJe",
        "outputId": "af7ea395-eb48-45a5-fb2a-4ce62cf307fa"
      },
      "source": [
        "# tensorflow\r\n",
        "import tensorflow\r\n",
        "print('tensorflow: %s' % tensorflow.__version__)\r\n",
        "# keras\r\n",
        "import keras\r\n",
        "print('keras: %s' % keras.__version__)\r\n",
        "# scikit-learn\r\n",
        "import sklearn\r\n",
        "print('sklearn: %s' % sklearn.__version__)\r\n",
        "# numpy\r\n",
        "import numpy\r\n",
        "print('numpy: %s' % numpy.__version__)\r\n",
        "# pandas\r\n",
        "import pandas\r\n",
        "print('pandas: %s' % pandas.__version__)\r\n",
        "# matplotlib\r\n",
        "import matplotlib\r\n",
        "print('matplotlib: %s' % matplotlib.__version__)\r\n",
        "# seaborn\r\n",
        "import seaborn\r\n",
        "print('seaborn: %s' % seaborn.__version__)"
      ],
      "execution_count": 4,
      "outputs": [
        {
          "output_type": "stream",
          "text": [
            "tensorflow: 2.4.1\n",
            "keras: 2.4.3\n",
            "sklearn: 0.22.2.post1\n",
            "numpy: 1.19.5\n",
            "pandas: 1.1.5\n",
            "matplotlib: 3.2.2\n",
            "seaborn: 0.11.1\n"
          ],
          "name": "stdout"
        }
      ]
    }
  ]
}
