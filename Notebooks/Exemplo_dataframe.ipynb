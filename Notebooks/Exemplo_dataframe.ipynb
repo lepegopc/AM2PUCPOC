{
  "nbformat": 4,
  "nbformat_minor": 0,
  "metadata": {
    "kernelspec": {
      "display_name": "Python 3",
      "language": "python",
      "name": "python3"
    },
    "language_info": {
      "codemirror_mode": {
        "name": "ipython",
        "version": 3
      },
      "file_extension": ".py",
      "mimetype": "text/x-python",
      "name": "python",
      "nbconvert_exporter": "python",
      "pygments_lexer": "ipython3",
      "version": "3.7.3"
    },
    "colab": {
      "name": "Exemplo_dataframe.ipynb",
      "provenance": [],
      "collapsed_sections": []
    }
  },
  "cells": [
    {
      "cell_type": "markdown",
      "metadata": {
        "id": "PcWx36BdDBX0"
      },
      "source": [
        "## Conjunto de dados\r\n",
        "\r\n",
        "- Fonte: https://www.kaggle.com/uciml/pima-indians-diabetes-database\r\n",
        "- Proprietários originais: National Institute of Diabetes and Digestive and Kidney Diseases\r\n",
        "- Doadores da base de dados: Vincent Sigillito (vgs@aplcen.apl.jhu.edu), \r\n",
        "Research Center, RMI Group Leader, Applied Physics Laboratory, The Johns Hopkins University (1990)\r\n",
        "\r\n",
        "Detalhes sobre o conjunto de dados:\r\n",
        "\r\n",
        "1. Número de instâncias: 768\r\n",
        "\r\n",
        "2. Número de atributos: 8 (mais classe target)\r\n",
        "\r\n",
        "3. Atributos: (todos com valor numérico)\r\n",
        "   1. Número de vezes que engravidou (*Pregnancies*)\r\n",
        "   2. Concentração de glicose plasmática a 2 horas em um teste de tolerância à glicose oral (*Glucose*)\r\n",
        "   3. Pressão arterial diastólica (mm Hg) (*BloodPressure*)\r\n",
        "   4. Espessura da dobra da pele do tríceps (mm) (*SkinThickness*)\r\n",
        "   5. Insulina sérica de 2 horas (mu U / ml) (*Insulin*)\r\n",
        "   6. Índice de massa corporal (peso em kg / (altura em m) ^ 2) (*BMI*)\r\n",
        "   7. Função de pedigree de diabetes (*DiabetesPedigreeFunction*)\r\n",
        "   8. Idade (anos) (*Age*)\r\n",
        "   \r\n",
        "4. Variável target (classe): 0 ou 1 (valor de classe 1 é interpretado como \"teste positivo para diabetes\")\r\n",
        "\r\n",
        "   Classe Valor Número de instâncias\r\n",
        "   - 500 => 0\r\n",
        "   - 268 => 1\r\n",
        "\r\n",
        " "
      ]
    },
    {
      "cell_type": "markdown",
      "metadata": {
        "id": "SgK6xTSQM9cA"
      },
      "source": [
        "## Clona repositório de dados da disciplina hospedado no GitHUb"
      ]
    },
    {
      "cell_type": "code",
      "metadata": {
        "id": "1SP-2hEvNDAA"
      },
      "source": [
        "!git clone \"https://github.com/malegopc/AM2PUCPOC\""
      ],
      "execution_count": null,
      "outputs": []
    },
    {
      "cell_type": "markdown",
      "metadata": {
        "id": "LWXwGCqvIwgN"
      },
      "source": [
        "## Leitura e preparação dos dados\r\n",
        "\r\n",
        "Vamos começar importando o arquivo CSV bruto usando o Pandas."
      ]
    },
    {
      "cell_type": "code",
      "metadata": {
        "scrolled": true,
        "id": "LM6AT7tPzjL6"
      },
      "source": [
        "import pandas as pd\n",
        "\n",
        "# lê arquivo de dados, atribue NaN para dados faltantes\n",
        "diabetes = pd.read_csv('AM2PUCPOC/Datasets/Indians_Diabetes/diabetes.csv', na_values=['?'])\n",
        "# imprime as 5 primeiras linhas dos dados montados\n",
        "diabetes.head()"
      ],
      "execution_count": null,
      "outputs": []
    },
    {
      "cell_type": "markdown",
      "metadata": {
        "id": "hwYy7MWElw6e"
      },
      "source": [
        "## Análise prévia dos dados\r\n",
        "\r\n",
        "Imprime o número de dados non-null (não ausentes) e o tipo de cada atributo."
      ]
    },
    {
      "cell_type": "code",
      "metadata": {
        "id": "4fCsJPgNlxwG"
      },
      "source": [
        "# Mostra o número de dados non-null (não ausentes) e o tipo de cada atributo\r\n",
        "print('Informações sobre os dados:\\n')\r\n",
        "diabetes.info()\r\n",
        "# Soma o número de dados null (ausentes)\r\n",
        "print('\\n\\nSoma de dados null (vazios):\\n')\r\n",
        "diabetes.isnull().sum()"
      ],
      "execution_count": null,
      "outputs": []
    },
    {
      "cell_type": "markdown",
      "metadata": {
        "id": "HFsjqPh-zjL-"
      },
      "source": [
        "## Análise (estatística) descritiva dos dados\r\n",
        "\r\n",
        "Análise descritiva dos dados (resumo)."
      ]
    },
    {
      "cell_type": "code",
      "metadata": {
        "id": "d02W1HKazjL-"
      },
      "source": [
        "diabetes.describe()"
      ],
      "execution_count": null,
      "outputs": []
    },
    {
      "cell_type": "markdown",
      "metadata": {
        "id": "yabMrBvezjMC"
      },
      "source": [
        "## Separa os atributos das classes\r\n",
        "\r\n",
        "Extrai os atributos e as classes (rótulos) colocando-os em duas variáveis separadas (na forma que o Keras espera)."
      ]
    },
    {
      "cell_type": "code",
      "metadata": {
        "id": "9pK51IcczjMC"
      },
      "source": [
        "X = diabetes.drop('Outcome', axis=1).values\n",
        "y = diabetes['Outcome'].values\n",
        "print(X.shape)\n",
        "print(y.shape)"
      ],
      "execution_count": null,
      "outputs": []
    }
  ]
}