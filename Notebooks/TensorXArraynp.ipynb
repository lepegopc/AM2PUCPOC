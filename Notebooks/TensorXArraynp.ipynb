{
  "nbformat": 4,
  "nbformat_minor": 0,
  "metadata": {
    "colab": {
      "name": "TensorXArraynp.ipynb",
      "provenance": [],
      "collapsed_sections": []
    },
    "kernelspec": {
      "name": "python3",
      "display_name": "Python 3"
    }
  },
  "cells": [
    {
      "cell_type": "markdown",
      "metadata": {
        "id": "39KpOTk01nhm"
      },
      "source": [
        "\r\n",
        "\r\n",
        "---\r\n",
        "\r\n",
        "---\r\n",
        "# Tensores e arrays numpy\r\n",
        "\r\n",
        "\r\n",
        "---\r\n",
        "\r\n",
        "---\r\n",
        "\r\n",
        "\r\n",
        "\r\n",
        "\r\n",
        "\r\n",
        "\r\n"
      ]
    },
    {
      "cell_type": "markdown",
      "metadata": {
        "id": "yzTufm5O2FxF"
      },
      "source": [
        "## Criação de tensores pelo tensorflow"
      ]
    },
    {
      "cell_type": "code",
      "metadata": {
        "id": "FlObekwNr3hE"
      },
      "source": [
        "import tensorflow as tf\r\n",
        "\r\n",
        "x = tf.constant(3) # 1x1 (tensor 0-dimnensional = escalar)\r\n",
        "y = tf.constant([5,6,2,7,4,9]) # 1xN (tensor unidimensional = vetor)\r\n",
        "z = tf.constant([[3,5,7], [2,4,6]]) # NxN (tensor bidimensional = matriz)"
      ],
      "execution_count": null,
      "outputs": []
    },
    {
      "cell_type": "markdown",
      "metadata": {
        "id": "C-yLPCwU2M3l"
      },
      "source": [
        "## Criação de arrays pelo numpy"
      ]
    },
    {
      "cell_type": "code",
      "metadata": {
        "id": "J1lUIQc30ZOG"
      },
      "source": [
        "import numpy as np\r\n",
        "\r\n",
        "x1 = np.array(3) \r\n",
        "y1 = np.array([5,6,2,7,4,9]) \r\n",
        "z1 = np.array([[3,5,7], [2,4,6]]) "
      ],
      "execution_count": null,
      "outputs": []
    },
    {
      "cell_type": "code",
      "metadata": {
        "id": "iTro_YcE0uyt"
      },
      "source": [
        "print(type(x))\r\n",
        "print(x.shape)\r\n",
        "print(type(x1))\r\n",
        "print(x1.shape)"
      ],
      "execution_count": null,
      "outputs": []
    },
    {
      "cell_type": "code",
      "metadata": {
        "id": "O4M6dlIB0202"
      },
      "source": [
        "print(type(y))\r\n",
        "print(y.shape)\r\n",
        "print(type(y1))\r\n",
        "print(y1.shape)"
      ],
      "execution_count": null,
      "outputs": []
    },
    {
      "cell_type": "code",
      "metadata": {
        "id": "Udsl0sKQ1YWe"
      },
      "source": [
        "print(type(z))\r\n",
        "print(z.shape)\r\n",
        "print(type(z1))\r\n",
        "print(z1.shape)"
      ],
      "execution_count": null,
      "outputs": []
    }
  ]
}