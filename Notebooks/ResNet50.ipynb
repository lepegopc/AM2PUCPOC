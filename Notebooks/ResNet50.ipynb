{
  "nbformat": 4,
  "nbformat_minor": 0,
  "metadata": {
    "colab": {
      "name": "ResNet50.ipynb",
      "provenance": [],
      "collapsed_sections": []
    },
    "kernelspec": {
      "name": "python3",
      "display_name": "Python 3"
    }
  },
  "cells": [
    {
      "cell_type": "markdown",
      "metadata": {
        "id": "eg9Hi7-FVAKX"
      },
      "source": [
        "# ResNet50"
      ]
    },
    {
      "cell_type": "markdown",
      "metadata": {
        "id": "te5QcMYdU2Ti"
      },
      "source": [
        "## Faz o upload do arquivo (imagem)"
      ]
    },
    {
      "cell_type": "code",
      "metadata": {
        "id": "COJrhxUBTnoS"
      },
      "source": [
        "from google.colab import files\r\n",
        "uploaded = files.upload()"
      ],
      "execution_count": null,
      "outputs": []
    },
    {
      "cell_type": "markdown",
      "metadata": {
        "id": "dFI4LbPBU-M2"
      },
      "source": [
        ""
      ]
    },
    {
      "cell_type": "code",
      "metadata": {
        "id": "KzUN4MsjUG7r"
      },
      "source": [
        "from IPython.display import Image\r\n",
        "filename = 'siames.jpg'\r\n",
        "Image(filename)"
      ],
      "execution_count": null,
      "outputs": []
    },
    {
      "cell_type": "code",
      "metadata": {
        "id": "9E2h4hAiTkCT"
      },
      "source": [
        "from tensorflow.keras.applications.resnet50 import ResNet50\r\n",
        "from tensorflow.keras.preprocessing import image\r\n",
        "from tensorflow.keras.applications.resnet50 import preprocess_input, decode_predictions\r\n",
        "import numpy as np\r\n",
        "\r\n",
        "model = ResNet50(weights='imagenet')\r\n",
        "\r\n",
        "img_path = filename\r\n",
        "img = image.load_img(img_path, target_size=(224, 224))\r\n",
        "x = image.img_to_array(img)\r\n",
        "x = np.expand_dims(x, axis=0)\r\n",
        "x = preprocess_input(x)\r\n",
        "\r\n",
        "preds = model.predict(x)\r\n",
        "# decode the results into a list of tuples (class, description, probability)\r\n",
        "# (one such list for each sample in the batch)\r\n",
        "print('Predicted:', decode_predictions(preds, top=3)[0])\r\n",
        "# Predicted: [(u'n02504013', u'Indian_elephant', 0.82658225), (u'n01871265', u'tusker', 0.1122357), (u'n02504458', u'African_elephant', 0.061040461)]"
      ],
      "execution_count": null,
      "outputs": []
    }
  ]
}