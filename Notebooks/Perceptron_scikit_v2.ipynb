{
  "nbformat": 4,
  "nbformat_minor": 0,
  "metadata": {
    "colab": {
      "name": "Perceptron_scikit_v2.ipynb",
      "provenance": [],
      "collapsed_sections": []
    },
    "kernelspec": {
      "name": "python3",
      "display_name": "Python 3"
    }
  },
  "cells": [
    {
      "cell_type": "markdown",
      "metadata": {
        "id": "GEHD2OKas9DN"
      },
      "source": [
        "\n",
        "\n",
        "---\n",
        "\n",
        "---\n",
        "\n",
        "\n",
        "\n",
        "\n",
        "# Treinamento de neurônio PERCEPTRON - Scikit-learn\n",
        "\n",
        "Este notebook mostra o uso do modelo [Perceptron](https://scikit-learn.org/stable/modules/generated/sklearn.linear_model.Perceptron.html#sklearn.linear_model.Perceptron) da biblioteca [Scikit-learn](https://scikit-learn.org/stable/index.html) para criar e treinar um neurônio para as seguintes relações lógicas:\n",
        "\n",
        "* AND\n",
        "* OR\n",
        "* tentativa de aprendizado da relação XOR\n",
        "\n",
        "Adicionalmente (em relação a versão 1), este notebook emprega uma função que mostra a fronteira de decisão do Perceptron.\n",
        "\n",
        "\n",
        "---\n",
        "\n",
        "---\n",
        "\n",
        "\n",
        "\n"
      ]
    },
    {
      "cell_type": "markdown",
      "metadata": {
        "id": "j8YlMlbKw8fG"
      },
      "source": [
        "## Bibliotecas/pacotes"
      ]
    },
    {
      "cell_type": "code",
      "metadata": {
        "id": "HDjPKPtNuw4B"
      },
      "source": [
        "import numpy as np\n",
        "import matplotlib.pyplot as plt\n",
        "from matplotlib.colors import ListedColormap\n",
        "\n",
        "from sklearn.linear_model import Perceptron"
      ],
      "execution_count": 13,
      "outputs": []
    },
    {
      "cell_type": "markdown",
      "metadata": {
        "id": "zaQYV-pmLLor"
      },
      "source": [
        "## Função que mostra a fronteira de decisão do Perceptron\n",
        "\n",
        "Baseada em: https://scikit-learn.org/stable/auto_examples/classification/plot_classifier_comparison.html"
      ]
    },
    {
      "cell_type": "code",
      "metadata": {
        "id": "OLUMV_BELeH6"
      },
      "source": [
        "def plota_fronteira_decisao(classifier, X, y, title):\n",
        "  xmin, xmax = np.min(X[:, 0]) - 0.05, np.max(X[:, 0]) + 0.05\n",
        "  ymin, ymax = np.min(X[:, 1]) - 0.05, np.max(X[:, 1]) + 0.05\n",
        "  step = 0.01\n",
        "  cm = plt.cm.RdBu\n",
        "  thr = 0.0\n",
        "  xx, yy = np.meshgrid(np.arange(xmin - thr, xmax + thr, step), np.arange(ymin - thr, ymax + thr, step))\n",
        "  if hasattr(classifier, 'decision_function'):\n",
        "    Z = classifier.decision_function(np.hstack((xx.ravel()[:, np.newaxis], yy.ravel()[:, np.newaxis])))\n",
        "  else:\n",
        "    Z = classifier.predict_proba(np.hstack((xx.ravel()[:, np.newaxis], yy.ravel()[:, np.newaxis])))[:, 1]\n",
        "  Z = Z.reshape(xx.shape)\n",
        "  plt.contourf(xx, yy, Z, cmap=cm, alpha=0.8)\n",
        "  plt.colorbar()\n",
        "  plt.scatter(X[:, 0], X[:, 1], c=y, cmap=ListedColormap(['#FF0000', '#0000FF']), alpha=0.6)\n",
        "  plt.xlim(xmin, xmax)\n",
        "  plt.ylim(ymin, ymax)\n",
        "  plt.xticks((0.0, 1.0))\n",
        "  plt.yticks((0.0, 1.0))\n",
        "  plt.title(title)\n"
      ],
      "execution_count": 14,
      "outputs": []
    },
    {
      "cell_type": "markdown",
      "metadata": {
        "id": "2EItzo18tcbK"
      },
      "source": [
        "## Relação AND\n",
        "![AND.png](data:image/png;base64,iVBORw0KGgoAAAANSUhEUgAAAdQAAADyCAIAAAB7x6OkAAAAAXNSR0IArs4c6QAAAARnQU1BAACxjwv8YQUAAAAJcEhZcwAADsMAAA7DAcdvqGQAAC13SURBVHhe7d13QBPn/8BxEAKE8WWPAg4EkYobceCoFCt11L3qtir166i21RZX1W+tUlsVa9XiqKNqtYpoVZyIqxXF2h8OKkVBEBcioMwQAr8HnocQ4JIL5O5yl3xe/5TLk3jJk8u7x5FcDMoBAABwDuILAABaAPEFAAAtgPgCAIAWQHwBAEALIL4AAKAFEF8AANACiC8AAGgBxBcISVlZGfkJAIGD+AIhWbJkSUFBAVkAQMggvkAwUlJSjI2N161bR5YBEDKILxCMadOmGRgYODs7w84v0AEQXyAMeLcXxReBnV+gAyC+QBjwbi8GO79AB0B8gQAo7vZisPMLhA7iCwRAcbcXg51fIHQQX8B3jx8/trGxsaiEy4t/3rx5M7kGAAIE8QXcSQ4PqGhnQHgyuaDe2rdvf/ToUbIAgJBBfAE3SHgrQHwBgPgCxuHKksBGh5CfKy4NCI9WHGsIiC/QGRBfwLjK4hqERFent0qNMDcExBfoDIgvYAHObyXU4GoQXwCqQHwBG6rqW6uzEF8AqkB8AfNwY7EapYX4AlAF4guYVl1Y+cHfKhBfAKpAfAHDFItLdoHRguLOMFbjYLC6IL5AZ0B8gZBAfIHOgPgCIYH4Ap0B8QVCAvEFOgPiC4QE4gt0BsQXCAnEF+gMiC8QEogv0BkQXyAkEF+gM9SKb+PGjW0r9ezZ813AmsDAQDzPdnZ2ZOpBTRBfoDPUim+jRo3IG+MBV8jUg5ogvkBnQHx5ikw9qAniC3SGWi9ye3t7XISDBw+eB6w5c+YMnmdDQ0My9aAmiC/QGWrF96233sJRePr0KbkIsKC0tBTPM/pVg1wEaoL4Ap0B8eURIcb30qVLsbGxZIF9EF+gMyC+PCK4+KalpTk6OhobG2/YsIFcxDKIL9AZEF8eEVx8v//+e3yHkcmTJxcXF5MB1kB8gc6A+PKIEA877Nixw9TUFN/tzp07Z2RkkAF2QHyBzoD48ohA/+B27do1V1dXfM9dXFz++OMPMsACiC/QGUKOr+zp4c/693lvxua/s0rIReXFsV8NCBq+7GyWjFxQXi6J+3bEsCXR2WXlpQ93TnuvNxYYNPDDmYsjLjyWlJHraZ9A44ugDaNbt274zpuYmGzdupUMMA3iC3SGgOMrSw3vZYZ+5bUMCI19UpXQgl/6iw0MxG3nns2timrRsQ8dHT/Y+kRWLr0V+rbI7Z0ZS5YtW7Z0wcwPg1r8x7zZgDVxeTzpr3Dji0gkkqlTp+L7j8yYMaOkRP7/RMZAfIHOEG58S5PXdDP3HDlruItl1wXnHxfjgKL4Wji09HG06rgg9jW+qGZ8TdvMuyKPbf5fX/lb2PQOu1PEi/wKOr7Ypk2bRCIRfhQ9evR4/vw5GWAIxBfoDMHGtzRxZSexz+RfEyI/esui06en03E/UXwtm42P2DzEybrLoj8qK6sivuXlub+NcLDsuSpJSpa1Sgfii1y6dMnJyQk/EHd39/j4eDLABIgv0BlCja804at24tbTD6cU5J+a6iruOOfko8r6VsZ3YmRm6tZ+DrY9VlzPL1Md39KHqzubeU49nk2WtUo34oukp6f7+fnhx2JmZrZnzx4yoDGIL9AZAo2vNH5hK4uOs46nFpaVF5ye5mrW9r9HK36uiu9LWenDH/vYOfRe/Xdhoar4yh6vDTBrOvHIS7KsVToTX6SwsHD8+PH44SDz5s1Dj46MaQDiC3SGMOMr+fNzL6NGxmKLSuYmRgbGrSr2glGJq+KLUvbvup7WTn3X3jykIr6SK7M9TDt8GV9IlrVKl+KLrV271sjICD+ooKCgrKwsMtBQEF+gMwQZ3+KLczzM2ny0++q9fysl7pvoZtLyowMP8ssU4ov2j++u6mrl0nfse/bK4vvmBLql98en5W+N0Crdiy9y7tw5Ozs7/Lg8PDwSEhLIQINAfIHOEGJ8C86GuIs7zD7xqOI4Q6WimP82FrWYtDc5L18xvmjH9u9lfhZo38uhOr5vTz9yFwX7/v9djtzwcRcHM/dBPyby480OuhlfJCUlpU2bNvihmZubHzx4kAzUH8QX6AwBxjf/xBQX805zT5H3N1Qqjp3dTNR83K6kZ3tqxBeNXA9ta9aoOr7kd2ADAyNzB492wXP3Jxbwo7yIrsYXyc/PHzFiBH50SGhoqExW/TkY9UF8gc4Q6B/cdJMOxxf75ptv0EPDj7F///65ublkQG0QX6AzIL48ovPxRU6cOGFtbY0fpre3d2JiIhlQD8QX6AyIL4/oQ3yRpKQkHx8f/EitrKyOHTtGBtQA8QU6A+LLI3oSX+T169cffPABfrCGhobLly8vK1Pr0DvEF+gMiC+P6E98EVTbpUuXovLihzx06NC8vDwyphzEF+gMiC+P6FV8scjISEtLS/yofX19k5OTyYASEF+gM+oX3+3btx8BrDl06BCeZ/2JL3L37l1PT0/8wG1sbE6fPk0GqEB8gc6oX3wBN/Qqvkh2dnbfvn3ljz0sLIwM1AHxBTqjfvFNT0+XcmvKlCl9+vQhCxwaN25c//79yQJXiouL8TzrW3yR0tLS+fPn44ePfPjhh4WFFCfcgPgCncH3Y75Tp05F+0RkgUMTJkwYOHAgWeCKHh7zrWXfvn1isRhPQocOHR49ekQGqkB8gc6A+FKD+GrLrVu3mjRpgufBwcEhNjaWDFSC+AKdAfGlBvHVoszMzHfeeQdPhbGx8YYNG8gAxBfoEIgvNYivdkml0tmzZ+PZQCZPnlxcXIwuh/gCnQHxpdaQ+CaHB6A5Cgiv+VZV6kspQXxr2bFjh6mpKZ6Tzp07Z2RkQHyBzmA3vjg86pWHWkPiGx1SeWcrNHjN9Y9v5WMNiSZL1SC+GomLi3N1dcXT4uLi0qJFC4gv0A3sxZeEtwKX8UXlJQUkd4Cih2pg7rADxFdTaKvr1q0bnhlDQ8OZM2eSAQCEjIH41qhL5V5nxc8VlwaER6tfHmoq4ku9XgX1yF4divGt3pOWh5xi5xqvreoa8isEhIQo3guKG1aD+CojkUimTZuGJweZMWNGSUkJGQNAmBjZ88VFQd2p/EExKpr0r5LKPV/l660kH26A6vgq/NvJ4SEV/0UPiqxLMbiKPyvcBt8JvEB9w2oQX9U2bdqE5wfp0aPH8+fPyQAAAsTQYQeSmAo1ioIjQ4rTEDSHHZStF8FDDV11rfgq+3cqB/GYQk8VLlU2BTWuUgXiS8vLy0t+LnZ3d/f4+HgyAIDQMHXMFyeqTk/Yjq/q9dYJsvqoDztU/YMKlyB43dXxrfmgayxR3bAaxJdW+/btt23b5ufnhyfKzMxsz549ZAwAQWEmvqR1lWoUpWaHGkB1fJWsFyeu4eVF6v7BTf5Q8A/4X69cE16zwsUKlypOgZIbVoP40sJvNSsqKho/fjyeK2TevHlo6sg1ABAIJuJbnZc61aseaiBV8aVeb5370CDy+KKVkLtf1cvK1eLL8Lrwz/jeVK5X8VHjq1QuKLlhNYgvLcX3+a5du9bIiHwbdVBQUFZWFr4cAEFgIL6KtcPZqVggPyloUA9VxJdyvXVXWydxalHY81X4J8lDIEFFQkLQj3gF+GpVD1J+FfKOD8XmVlC4YTWIL61aH7I4f/68nZ0dnjQPD4+EhAQyAADvMXXMly10x3zZUvewAwcgvrTqfsItJSWlbdu2eN7Mzc0PHjxIBgDgN4gvNYgvP9WNL5Kfnz9y5Eg8dUhoaKhMJiNjAPAVxJcaxJefKOOLffPNN2je8AT269cvJyeHDADASxBfahBfflIRX+TkyZPydwG3aNEiMTGRDADAPxBfahBfflIdXyQpKcnHxwdPo5WVleorA6BFEF9qEF9+oo0v8vr160GDBuGZNDQ0XLZsWVlZGRkDgDcgvtQgvvykTnwRVNulS5ei8uL5HDJkyJs3b8gYAPwA8aUG8eUnNeOLHTlyxNLSEk9pq1at/v33XzIAAA9AfKlBfPmpXvFF7t696+npiWfVxsbm1KlTZAAAbatffNEP7twyNzc3NTUlCxxC6zUzMyMLXHFzc8PzDPFVpr7xRbKzs4ODg+UTu3r1ajIAgFbVL77Lli1by63OnTt7e3uTBQ75+fmhX1TJAle+++47PM8QX2UaEF8E/UqxYMECPLfI6NGjCwoKyBioF9mTqKVf7n9Y4zRGb+6cjIx7Vt+PtdS6lfT2ts9WnXulTx+OgcMO1OCwAz81LL7Y/v37xWIxnuF27dqlpqaSAaAu2fNDE3zf35Si2F5ZxtYBts1nx1Z8ubT66t5KmvB193azz+nRR2MgvtQgvvykSXyRW7duNW3aFE+yg4PDhQsXyABQh+R6aFuPaSfz8ZIsNzX+/K/fT+/i0MjIQ+34qrhV1t7hrt3D/tGbk4NCfKlBfPlJw/giL1++7N27N55nY2Pj9evXkwFAJ/fo5MZesy8UkcXMncPfskOsxcbG6sdX1a1yD49zbTnvctUKdB3ElxrEl580jy8ilUrnzJmDpxqZNGlSUZG+vOA1kB810cV1yvHaMyW58qm3ifrxJahvlbNnqI3XJ5ckZFHHQXypQXz5iZH4Yjt37jQ1NcUT7u/v//jxYzIAKEkuzfWy7Lulzh/WmIxv6T/fdDH3W35bSpZ1G8SXGsSXnxiML3L9+nX52/ucnZ2vXr1KBkBdmRHBYveQ03Uay2R8ywsOjLS2Gf2bfrwVBeJLDeLLT8zGF3n27FlAAPmqEpFI9NNPP5EBUJP0zgo/s9YLb9TZKWU0vsVnP24sfnfjU714xxmD8ZXlJF08vGt35KXkXOamTp34srFideLL+HohvrQYjy8ikUimT5+OZx4JCQkpKSkhY6BKaVJYN3HL+X/WOR7LaHyLTk59SxwckUkWdRtT8ZXe/3l0C1s3v6Cgjm52PhP31XwXdsPRxpelFdPGl431QnxpsRFfbMuWLWjPF89/9+7d0R4xGQBY7q5BFi51/97GbHzzfhlq6TjxqH78+ZOh+OYcGuviPGh7KipQ6YNNwfZuU37PI0OaoYsvWyumiy8r64X40mIvvsiVK1ecnZ3xU+Dm5nbjxg0yABDp7eUdzbuFJdfey6DIqCQufNKwUV+dfEWWKVDHV3o91NcycEOaXhx1YCi+xdHT3BxGHcjFS1m7Btt4zIqp3/8JlaCJL2srpokvO+uF+NJiNb7I48ePO3XqhJ8FMzOzXbt2kQFQLrk8t4XtsL21P4JGkdGiqAkOjUwCf8hQHlHK+MoyNr5rqTdvdmAmvrIXW/qa+8qPxaMnyctiwA5GPieoOr7srVh1fFlaL8SXFtvxRYqKitCzj58I5JNPPpFK9aQGNCTxi9s5j9iXRRZVerNrxJCtal2zmix903sOPb9LYuAIniAwE99H63pZ+K9MJJMmvbmkrXnQj4z8xZImvqytmCa+7KwX4kuLg/hi69evNzIywk/Hu++++/LlSzIgQLm5ueHh4ePHjx88ePC4ceNWrVr1/PlzMlYvpambg90HbntCt6GXpp3+atCQ1Qn1+39WadKaXk1G7X/BRDcEgZnDDpkRwRatvowjfwiVXJzT3GLgzxzs+bK3YprDDuysF+KrQl5eXmxsLJqcyZMnJyUlcfDNQOfPn7e3t8fPSLNmzf7++28yIByvXr2aMWOGra3thx9+uHv37qioqL1794aEhKBLRo8enZycTK6ntuJb/+vRaf5Vmj+IlWbcvHg3q54RzTkxrX3wRr3Z7UUYOuYbM9PDbvje7MoF2YvtA6xbzLvMyGcE6Y75srViumO+rKyX0/gyc27Aohf3Lv0edfZm2hv5P8T4uQFLSkqWLl1qbGyMJwdr27ZtQkICuQZrUlJS0IrwGs3NzX/99VcyIATZ2dkdO3ZE8a37zo3Xr1+vXr3a3d39/v375CJ1FSWe2H8pg/lESh+e23s+Ra+O7zAT3/L8U9ObOr6/ueIvoZJ76wLtPGfFMPNuEZr4srZimviys14O48vEuQFzb/wwtLmpoZGJicjQyLFHaPQT/K8xem5AtO8m/wtYLSKRaMeOHeR6rCkoKBg1ahRZpYHBF198IZMJ4BdjlFdU3gULFpBlKnv27HF1da1/fwEzGIpvuezZqfn+Ti6+Ad18HJ0DFsVkMrR90sWXrRXTxZeV9XIXXwbODZgf+4m3yMr/i9MZRZKs+PCBb4kch+4iRwMZPDfgmDFj8JxQMjEx4WD/F0H7iehJwSsNDg7OyWHmfy3sCQsLGz16NFlQbs2aNSNGjCALgFtMxbdCaW7K9ZgL8am5TLzoCNr4VmBhxbTxrcD0ejmLLwPnBsw7OslF5P3pFXJlWWp4oFgcGJ6K68vQuQGPHDmCJ0SFDh06cPPN8NHR0TY2NnilXl5e9+7dIwP8gzakpk2b3rp1iywrl5eXh554OKmQVjAZXzaoFV8WqBVfpnEVXwbODSi9ubiNyG5cpPwMKJUX2I8/Qv5RZs4NKD/xrmoPHz4kN2DZv//++/bbb+OVWlpaRkVFkQGeOXnyZNeuXckCnU8++WTZsmVkAXAI4ktNl+PLxLkBi45NchIp/pFRlr4h0MQk8Ady4IGZcwO6u7vjCVHt+PHjWVlZzyq9fv2a3LjyHbvkp/Jy+RXevHlDLmrQFZKTk/v374/Xa2houGjRIvl+t+arePnyJSNX+P777+fOnUsuorN3796xY8eSBcAhiC81XY4vE+cGLDg4ylrU/qv/q47rm50DTUUB31Z9+pSRcwOqGd89e/Zs27ZtS6UzZ87g20ql0piYGPnPW7duxVc4e/YsvrCkpER+BfSz/Arnzp2TXyj/niHFK6B/Ae0qovLitQ8aNAilUPEK58+fx7eSSCTyfwH9HBERUfcKsbGx8p/lV5DfMdorFBcXX7x4Uf4zvsKKFSvQ/xXwhbQiIyOHDh1KFgCHIL7UdDi+jJwbEO35Ooq8P7taveeb8UPFnu+GdLI/zci5AT09PfGEqKaV8/BGRUVZWVnhO/D222//+++/ZIAHNm/ePH36dLJAB/1/a8qUKWQBcAjiS02H48vIuQGl8YvaiBRPPyX9+6v2ItsPD1Xt6jJybsDPP/8cT4gKZmZmir93c+nevXteXl74blhbW0dHR5MBbUtMTESvWbQzTpZVev/999GvDmQBcKh+8V2yZMkabvn7+7do0YIscKhjx45od4YscCUsLAzPM7uHHRg5N2Be1AQnUfX+s+xpRD9Ls97rybsdGDo3YFZWlouLC54TZVavXk2urQ05OTkoXvieoGdt1apVZEDbAgMDDxw4QBaUS05OdnJyKi5W6zkHzKpffN3c3Jpyy9LSEu3akAUOWVhYiMVissCVJk2a4HlmN77MnBsw7/wsT5Fj8IY7qK/S9MNTvEztBu2Qn8aKsXMDot1JPCeUunfvjn5dIFfVEplM9uWXX5I7ZGAwcuTI/HzyBmotioyMbN26dW4uOfEeJTR1w4YNW7hwIVkG3ILDDtR0+q1mzJwbUPbqwtLujsYiG7fG9qaNrHynHqg4uzHG6LkBT506Jd8CFU2ZMkXxvQ3ahXYzzc3N8R1r27ZtSkoKGdCeefPmde3aNS+P+kTT6P8ZaCN/7733tHXQBkB8qel0fJk7N6Cs4GlCzJHD0TdqftCE8XMDZmVlffHFFy1btmxWCW0SJ0+eJGO88ffff6NfX/AzaG9vL39Lgxb997//bd++PdoLrvWR6JiYGJTdoKCgwsJCchHgHMSXmm7HV7jnBvzxxx/T0tLIAv+8fPkyMDAQP4lGRkbr1q0jA1pSVlZ26NCh7t27e3h4oBAvWrRo1qxZvr6+rVu3joiIgH1e7YL4UtPx+JYL9dyAnJ3Pt8GkUuncuXPx84igDYkPjYuPj9+0adOKFSvWr18vf18w0C6ILzWdj2+5MM8NyP/4Yrt27TIzM8PPZqdOnXhy8oQtW7Y8gy8G5Q2ILzU9iK8gCSW+yI0bN9zc3PAT6uTkdOXKFTKgPRBfXoH4UoP48pOA4os8f/68e/fu+DkViUSbN28mA1qSkpKi5icvAAcYjK8sJ+ni4V27Iy8l5zL3lxZ141uadmHf6QfM/Q6tTnwZf8AQX1rCii8ikUhCQkLw04pMnz4dXULGgH5jKr7S+z+PbmHr5hcU1NHNzmfivppfT9NwasY3J2aOj/OEKOb+sEEbXzYeMMSXluDii/30009ozxc/uQEBAfC7P0AYim/OobEuzoO2V7zLvvTBpmB7tym/U7+1u75o4yu5vm5EV09bkWEjBy7jy8oDhvjSEmh8katXrzo7O+Pn19XV9fr162SAQ0lJSWgbIwtA25iJb3H0NDeHUQfIRxmzdg228ZgVw8jHxWnjW5p+LerwoQMr+jk5chhfdh4wxJeWcOOLPH782N/fHz/FpqamO3fuJANcgWO+vMJIfGUvtvQ195WfZEVyea6XxYAdjHzLlZqHHYrPzWjqxF18WXrAEF9ago4vUlRUNHHiRPwsI3PmzJFKWXpXHuA7ZuL7aF0vC/+VieQXGunNJW3Ng37U7FSuBE/jy84DhvjSEnp8sfDwcPk34ffu3fvly5dkAOgTZg47ZEYEW7T6Mo78FVdycU5zi4E/6/CeL0sPGOJLSzfii8TExNjb2+Onu6l6X3apOTjmyysMHfONmelhN3xvduWC7MX2AdaKX++lCZ7Gl50HDPGlpTPxRVJTU9u1a4efcbFYvH//fjLAGviQBa8wE9/y/FPTmzq+v7niFLGSe+sC7TxnxTATQp7Gl50HDPGlpUvxRQoKCkaPHo2fdGTBggW1Tj/GLIgvrzAU33LZs1Pz/Z1cfAO6+Tg6ByyKyWRoE+JrfFl5wBBfWjoWXywsLAw94/ipDw4Ozs7Gv1ExD+LLK0zFt0Jpbsr1mAvxNU/tqiE148s42vhWYPoBQ3xp6WR8kVOnTtnY2OBn39PT8+7du2SAUampqfBWM/5gMr5s4HV8mQbxpaWr8UWSk5NbtWqFNwBLS8sjR46QAaCjIL7UIL78pMPxRd68eTN48GC8DRgaGi5durSsrIyMAZ0D8aUG8eUn3Y4vgmq7fPlyVF68JXzwwQcMfk8dvNWMVyC+1CC+/KTz8cXQY7SyssIbg4+PD4omGdAMHPPlFYgvNYgvP+lJfJF79+61aNECbw/W1tY8/MJQoCGILzWILz/pT3yRnJycfv36yTeJlStXkgGgE+oX38aNG3twy9LSUiwWkwUOaWW9zZo1w/MM8VVGr+KLyGSy0NBQvFUgI0aMyM/PJ2P1B8d8eaV+8V20aFEYtzp16oR++SILHOrQoYOPjw9Z4MqqVavwPEN8ldG3+GIHDx40NzfH20bbtm1TUlLIQD3Bhyx4BQ47UIPDDvykn/FFEhIS5L8Y2dnZnTt3jgzUB8SXVyC+1CC+/KS38UWysrLeffddvIUYGRmtXbuWDKgN4ssrEF9qEF9+0uf4ImgLmTdvHt5IkPHjxxcV1eOEJvBWM16B+FKD+PKTnscX2717t5mZGd5U/Pz80tPTyQAQFIgvNYgvP0F8sfj4eHd3d7y1ODk5Xb58mQwA4YD4UoP48hPEV+758+c9evTAG4xIJNq0aRMZUC4pKQm+Mo4/IL7UIL78BPFVVFJSMmPGDLzNINOmTZNIVH2fChzz5RWG41uadmHf6Qccn89XlpN08fCu3ZGXknMZ+xYAdeLL+HohvrQgvnVFRESYmJjgLadbt27c7yGBhmE2vjkxc3ycmfxCCfr4Su//PLqFrZtfUFBHNzufifseMlN+2viysV6ILy2IL6U//vjDxcUFbzyurq5xcXFkAPAYU/GVXF83oqunrciwkQOn8c05NNbFedD2VJS+0gebgu3dpvyeR4Y0QhdfVtYL8aUF8VUmIyOjc+fOePsxNTXdsWMHGVAAx3x5han4lqZfizp86MCKfk6OXMa3OHqam8OoA7l4KWvXYBuPWTHFeEkjNPFlZ70QX1oQXxWKi4snT56MNyFk1qxZtVILH7LgFWYPOzD+PZY08ZW92NLX3HfhDbKFSS7P9bIYsCMHL2lEdXxZWi/ElxbEl9aGDRuMjY3xhvTOO+9kZmaSAYgvzwg8vo/W9bLwX5lIjrdKby5pax7041MG/vxFE1921gvxpQXxVUdsbKyDgwPelpo0afLXX3/hyyG+vCLs+JZnRgRbtPoyjry9RnJxTnOLgT+zv+fL0nohvrQgvmp69OgRmiu8OYnF4n379qEL4a1mvCLw+BbHzPSwG743u3JB9mL7AOsW8y6reqejuuiO+bKyXogvLYiv+goKCsaMGYO3KOTzzz9HGxgZAzwg8PiW55+a3tTx/c3JaKOS3FsXaOc5K4aRtdPEl531QnxpQXzr69tvv0WbE96u0EspOxvvMQDtE3p8y2XPTs33d3LxDejm4+gcsCgmk5nPO9DFl5X1QnxpQXwb4PTp07a2tnjTat68+Z07d8gA0Cpm48s82vhWKM1NuR5zIT41l7lfqmjjW4Hp9UJ8aUF8GyY5OdnX1xdvXZaWlpGRkWQAaI9OxJcFasWXaRBfWhDfBsvLyxs6dCjewAwNDRcvXlxWVkbGgDZAfKlBfPkJ4qsJVNsVK1ag8uLNDG3hr1+/JmOAcxBfahBffoL4auL+/ftSqfTYsWNWVlZ4S2vZsiW6kAwDbkF8qUF8+Qniqwn5hywSExO9vb3xxmZtbX3ixAl8BcAliC81iC8/QXw1ofgJt9zc3P79+8u3t6+//hoOAXOsfvFdvnz5em516dIF/WZEFjjUqVOnVq1akQWurF27Fs8zxFcZiK8man28WCaTLVy4EG9yyPDhw/Pz88kYYF/94uvs7OzKLXNzc1NTU7LAIbFYzP165fMM8VUG4quJR48e1f148W+//WZhYYE3vDZt2jx8+JAMAJbBYQdqcNiBnyC+bEhISPDw8MDbnp2d3blz58gAYBPElxrEl58gvix59epVnz598OZnZGT03XffkQHAGogvNYgvP0F8NYHfakYW6kCb32effYa3QGTcuHGFhYVkDLAA4ksN4stPEF9NUB7zreWXX34xMzPD22HHjh3T0tLIAGAaxJcaxJefIL4cuHnzZuPGjfGm6OjoeOnSJTIAGAXxpQbx5SeILzdevHjRs2dPvDWKRKKNGzeSAcAciC81iC8/QXw1ofqYby0lJSUzZ87EGySCXokSCRPfUwCqMBzf0rQL+04/YPB0+erGl+kVqxtfRtcL8aUF8dVEA77Dbdu2bSYmJniz7Nq165MnT8gA0Biz8c2JmePjzO3J1DHGV6xmfJldL8SXFsRXEw37As0///xTXgD0w7Vr18gA0AxT8ZVcXzeiq6etyLCRA7fxZWnFtPFlY70QX1oQX000LL4I2uHt0qUL3jjRjvD27dvJANAAU/EtTb8WdfjQgRX9nBy5jS9LK6aNLxvrhfjSgvhqQp23milTXFz80Ucf4e0TmTlzJnwRsoaYPeyghe9wwxhfsZqHHZhdL8SXFsRXuzZu3GhsbIy30l69er148YIMgPqD+FKD+PITxFfrLl686OjoiDfUxo0b//XXX2QA1BPElxrEl58gvpr4559/1H+rmQppaWkdO3bE26pYLN67dy8ZAPUB8aUG8eUniK8mNDnmW0thYeHYsWPx5op89tlnaOslY0A9EF9qEF9+gvjyynfffWdkZIQ32j59+rx69YoMADVAfKlBfPkJ4ss3Z86csbW1xdtt8+bNb9++TQYAHWbjyzw148s4NePLLIgvLYivJpg65lvLgwcPWrdujTddCwuLQ4cOkQGgEsSXGsSXnyC+mmjwhyxo5eXlDRs2DG+9yKJFi2QyGRkDSkB8qUF8+Qniqwn24ouUlZV9/fXXhoaGeBseMGBAbm4uGQNUIL7UIL78BPHVBKvxxY4fP/6f//wHb8be3t7//PMPGQB1QHypQXz5CeKribS0NA4+E4yC27JlS7wloxD//vvvZADUBPGlBvHlJ4ivIOTm5g4YMABvzIaGhv/73//KysrIGKiiVnzFYjGex/fff38It5o2bero6EgWONS4cWNnZ2eywJXBgwfjeUbI1IOaIL5CIZPJFi9eLD8EPGzYsLy8PDIGKqn1Ikc7YngGAWfI1IOaIL6aYOmtZiocPnzYwsICb9KtW7d+8OABGQAQX94iUw9qgvhqgptjvrXcvn27efPmeKu2tbU9c+YMGdB7ar3Iv/766y8qHTx48AhgE57n0NBQMvWgJoivEL169apPnz64v0ZGRmvWrCED+g32sICQQHwFqrS09PPPP8f9RcaOHVtYWEjG9BXEFwiARCLZtm3bBx98gF+6s2bNunv3LhkDdNDs/fTTT/369etbaeHChenp6WSMW3v37pX/9b5Dhw5paWlkQC9BfAHf3bt3D71Q8StWTiQSrVq1Cu1PkSsBJa5fv96mTRsya1WsrKx27typlbd//fXXX02aNMF3w9HR8eLFi2RA/0B8Aa/Fx8ebmpri12pdI0eOhDeQqhAZGSl/s1ddaBeYXI9bmZmZvXr1wvfB2Nj4hx9+IAPcKi4u1u7GA/EF/FVYWOjj44Nfpcrs3r2bXBvU9PTpU3t7ezJNVFCXr1y5Qq7NrZKSklmzZpH7YWAwZcoUlEIyxpXo6OiAgICzZ89qK8EQX8BfK1euJK9O5WxtbTl+76pQfPzxx2SOlGvVqpUW9/62b98u/7WmS5cuT548IQOcQPHFq9ZWgiG+gL9QGvDLQ7X4+HhyA6DA29ubTJBKN2/eJDfQhmvXrsnPXuDi4vLnn3+SAfbJ44txn2CIL+Avd3d38spQaffu3ej31pFAQWxsrPw73mmN1aqhQ4fKD480atSoc+fOZIBl8i/gUIQSHBcXR7Y/lkF8AX+pGd+oqKijR48eBAoyMzPlb+pSDWWIfMJHe9AdDgoKInfIwCA4OPi3334jY6yZPn06WV8VZ2fn9evXFxQUkO2PZRBfwF/+/v7kZaHSvXv3yA2Agnbt2pEJUikpKYncQNt+/PFHkUiE71XPnj1fvHhBBtiheNiB4+xiEF/AXxEREeTFoVyzZs20+4Yh3lq4cCGZI+V69epFrs0Ply5dcnR0xPcN/d7D6vFoHF+tZBeD+AL+kslk77zzDn4pKhMTE0OuDWrKz8/38vIi00RFLBbzZ7dXLj09vWPHjvgempmZ7dmzhwww7dq1a9rKLgbxBbz26NEjV1dX/FKsa+nSpeR6gEpcXJyNjQ2ZrJoaNWq0Y8cOcj2eKSwsHDduHLmjBgaffvqpTn6UEeIL+O7Vq1djxowhL8QqTk5Ox44dI9cAyj19+nT48OFk1qqgPWK030euwVfff/+9kZERvsNBQUFZWVlkQFdAfIEw3L17d+vWrYsXL16zZs2JEyfevHlDBoAaEhISNm3atGjRIlS0mJiYoqIiMsBvZ8+etbOzw/318PBAj4IM6ASILwCAvx4+fCg/MZC5ufnBgwfJAA9Fh+D7iQSEJ5MLlYP4AgB4LT8/X/HISWhoqEwmI2P8gcobEl35U3J4QMX9JEvKQXwBAAKwcuVK+feZ9e/fPzc3lwxwDseV7NtW7u3W2s+tcQXlIL4AAGE4fvy4tbV1RX0NDLy9vRMTE8kA1/DxBbRrS5VehWHVIL4AAMG4f/++/CyjVlZWWvtOKdzXSrUji4fUOOgL8QUACMnr16/lXyhlaGi4fPlybXzEsaq+lEcc6Pd6K0B8AQACg2q7ZMkS+Zd0DBkyhOO3HpLGVlLIr5rHGwiILwBAkA4fPmxpaVkZQANfX9/kZNpf9BlS/Qc1xdrWr7wIxBcAIFR37tzx9PSsiJ6BgY2NzenTp8kAmxQrKz/MoLgvTNAd9oX4AgAELDs7u2/fvjh3jRo1CgsLIwO8B/EFXJE9iVr65f6H8jOkFL24d+n3qLM3097U46QpFDeS3t722apzr/j3tnutYWSmK725czIy7pl8ank61aWlpfPnz8f9RcaMGaPFc5WpD+ILuCF7fmiC7/ubUvDLP/fGD0ObmxoamZiIDI0ce4RGP1EjC8puJE34unu72edyKhcAAzNNyDK2DrBtPju2+nuF+TzV+/btk395R/v27R89ekQG+AriCzghuR7a1mPayfzKhfzYT7xFVv5fnM4okmTFhw98S+Q4dNcTmv0pVTfK2jvctXvYP+pnRYdpPtOourmp8ed//X56F4dGRh6K8eX5VN+6datJkya4vw4ODhcuXCADvATxBVzIPTq5sdfsC/hcWnlHJ7mIvD+9Ql7TstTwQLE4MDxVZROU3Qgv5h4e59py3mVhnKuLVWrNNF5ULnPn8LfsEGuxsXGt+PJ9qjMzM+Un4Dc2Ng4PDycD/APxBRzIj5ro4jrlOH7BSm8ubiOyGxcpPypXeYH9+COqXs9Kb0QWc/YMtfH65JKELOot9WaaLNKRXPnU26R2fPk/1VKpdPbs2bi/yKRJk/h5Ck2IL2Cf5NJcL8u+W8gfboqOTXIStZh3Wf7qlaVvCDQxCfxB1a/DSm9EFkv/+aaLud/y22RRX6k502SRDnV8BTLVP//8s6mpKe6vv79/RkYGGeANiC9gX2ZEsNg95DR5DRccHGUtav/V/0nxIvJm50BTUcC3ySoOJCq9EVkqLzgw0tpm9G9kSV+pOdNkiQ51fIUz1XFxcfLvoHJ2dr569SoZ4AeIL2Cd9M4KP7PWC2+QBqD9MUeR92dXq/fHMn6o2B/bkK56z5f6RmSxvPjsx43F724kS3pK3Zkmi3SUxFdIU/3s2bNu3brh/pqYmERERJABHoD4AtaVJoV1E7ec/ydpgDR+URuR48Sj8sNw0r+/ai+y/fCQqrdmKr0RWSwvOjn1LXEwj15a2qDuTJNFOkriK7Cplkgk06ZNw/1FQkJCSkpKyJhWQXwB+3J3DbJwqforUHl5XtQEJ1H1/pnsaUQ/S7Pe62ne7aDkRngRjf8y1BJ1hizpKzVnGi/SUhJfQU715s2bRSIR7m/37t2fP39OBrQH4gvYJ729vKN5tzD5Md2887M8RY7BG+6gSEjTD0/xMrUbtCOjor2SuPBJw0Z9dRJfrwblN6ogvR7qaxm4IY0s6iv1Z1rVVFehjq9gp/ry5ctOTk64v+7u7jdu3CADWgLxBRyQXJ7bwnbYXvkHo2SvLizt7mgssnFrbG/ayMp36oFUnIuiqAkOjZT8OV7pjRBZxsZ3Lf2W3ya7ePpL7ZlWOdUEZXwFPdWPHz/28/PD/TUzM9u9ezcZ0AaIL+CCJH5xO+cR+7LIYgVZwdOEmCOHo2+k5sobWuHNrhFDtpKf61ByI1n6pvccen6XVOMf0k/1mGnVU62E4Ke6qKhowoQJuL+enp6FhYVkgHMQX8CJ0tTNwe4Dt9F9srU07fRXg4asTiCLaipNWtOryaj9L2j+cf2g5kzr+VSvW7fO2tr6zp07ZFkbIL6AI8W3/tej0/yrVX8LolaacfPi3ax6vrJzTkxrH7wRdnurqDXTMNXZ2dnkJy2B+ALOFCWe2H8pg/EXrvThub3nU/T+aK8ilmYapppREF8AANACiC8AAGgBxBcAALQA4gsAAFoA8QUAAC2A+AIAgBZAfAEAQAsgvgAAoAUQXwAA0AKILwAAaAHEFwAAOFde/v9UuLyBijvBjAAAAABJRU5ErkJggg==)"
      ]
    },
    {
      "cell_type": "code",
      "metadata": {
        "colab": {
          "base_uri": "https://localhost:8080/"
        },
        "id": "0f73OIsssoCH",
        "outputId": "75dbc734-275c-49a7-d846-c374f44f558c"
      },
      "source": [
        "# Dados de entrada\n",
        "X = np.array([[0, 0],\n",
        "              [0, 1],\n",
        "              [1, 0],\n",
        "              [1, 1]],\n",
        "            dtype=np.float)\n",
        "# Saídas AND\n",
        "y_AND = np.array([0, 0, 0, 1])\n",
        "\n",
        "# Criando um peceptron\n",
        "p = Perceptron()\n",
        "\n",
        "# Treinando um perceptron\n",
        "p.fit(X, y_AND)\n"
      ],
      "execution_count": 15,
      "outputs": [
        {
          "output_type": "execute_result",
          "data": {
            "text/plain": [
              "Perceptron(alpha=0.0001, class_weight=None, early_stopping=False, eta0=1.0,\n",
              "           fit_intercept=True, max_iter=1000, n_iter_no_change=5, n_jobs=None,\n",
              "           penalty=None, random_state=0, shuffle=True, tol=0.001,\n",
              "           validation_fraction=0.1, verbose=0, warm_start=False)"
            ]
          },
          "metadata": {
            "tags": []
          },
          "execution_count": 15
        }
      ]
    },
    {
      "cell_type": "markdown",
      "metadata": {
        "id": "Bam_KwqDyRvP"
      },
      "source": [
        "## Predição (teste do perceptron treinado)"
      ]
    },
    {
      "cell_type": "code",
      "metadata": {
        "colab": {
          "base_uri": "https://localhost:8080/"
        },
        "id": "bxsM3aRDyMzQ",
        "outputId": "e60bb11e-ee9e-47de-be37-d134a7cdd9db"
      },
      "source": [
        "p.predict(X)"
      ],
      "execution_count": 16,
      "outputs": [
        {
          "output_type": "execute_result",
          "data": {
            "text/plain": [
              "array([0, 0, 0, 1])"
            ]
          },
          "metadata": {
            "tags": []
          },
          "execution_count": 16
        }
      ]
    },
    {
      "cell_type": "markdown",
      "metadata": {
        "id": "eT3PfZRHNMHq"
      },
      "source": [
        "## Plota a fronteira de decisão definida pelo Perceptron"
      ]
    },
    {
      "cell_type": "code",
      "metadata": {
        "colab": {
          "base_uri": "https://localhost:8080/",
          "height": 281
        },
        "id": "Ci8FNmwHNr-f",
        "outputId": "16e6eb51-65df-46c8-87ed-ca263712e266"
      },
      "source": [
        "plota_fronteira_decisao(p, X, y_AND, 'Fronteira de decisão AND')"
      ],
      "execution_count": 17,
      "outputs": [
        {
          "output_type": "display_data",
          "data": {
            "image/png": "[encoded data removed]",
            "text/plain": [
              "<Figure size 432x288 with 2 Axes>"
            ]
          },
          "metadata": {
            "tags": [],
            "needs_background": "light"
          }
        }
      ]
    },
    {
      "cell_type": "markdown",
      "metadata": {
        "id": "U3W4nzyo1DhM"
      },
      "source": [
        "## Relação OR\n",
        "![OR.png](data:image/png;base64,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)"
      ]
    },
    {
      "cell_type": "code",
      "metadata": {
        "colab": {
          "base_uri": "https://localhost:8080/"
        },
        "id": "BG7T5cnS1ON9",
        "outputId": "8b8a9a72-3e08-496b-bb16-52f0047da7d5"
      },
      "source": [
        "# Dados de entrada\n",
        "X = np.array([[0, 0],\n",
        "              [0, 1],\n",
        "              [1, 0],\n",
        "              [1, 1]],\n",
        "            dtype=np.float)\n",
        "# Saídas OR\n",
        "y_OR = np.array([0, 1, 1, 1])\n",
        "\n",
        "# Criando um peceptron\n",
        "p = Perceptron()\n",
        "\n",
        "# Treinando um perceptron\n",
        "p.fit(X, y_OR)"
      ],
      "execution_count": 18,
      "outputs": [
        {
          "output_type": "execute_result",
          "data": {
            "text/plain": [
              "Perceptron(alpha=0.0001, class_weight=None, early_stopping=False, eta0=1.0,\n",
              "           fit_intercept=True, max_iter=1000, n_iter_no_change=5, n_jobs=None,\n",
              "           penalty=None, random_state=0, shuffle=True, tol=0.001,\n",
              "           validation_fraction=0.1, verbose=0, warm_start=False)"
            ]
          },
          "metadata": {
            "tags": []
          },
          "execution_count": 18
        }
      ]
    },
    {
      "cell_type": "markdown",
      "metadata": {
        "id": "dYVKaagV1UH0"
      },
      "source": [
        "## Predição (teste do perceptron treinado)"
      ]
    },
    {
      "cell_type": "code",
      "metadata": {
        "colab": {
          "base_uri": "https://localhost:8080/"
        },
        "id": "GExAgMfY1XSj",
        "outputId": "2996b1e6-6eec-4ace-c6b6-5460c1668455"
      },
      "source": [
        "p.predict(X)"
      ],
      "execution_count": 19,
      "outputs": [
        {
          "output_type": "execute_result",
          "data": {
            "text/plain": [
              "array([0, 1, 1, 1])"
            ]
          },
          "metadata": {
            "tags": []
          },
          "execution_count": 19
        }
      ]
    },
    {
      "cell_type": "markdown",
      "metadata": {
        "id": "LU84T8yQczuW"
      },
      "source": [
        "## Plota a fronteira de decisão definida pelo Perceptron"
      ]
    },
    {
      "cell_type": "code",
      "metadata": {
        "colab": {
          "base_uri": "https://localhost:8080/",
          "height": 281
        },
        "id": "C7ut9IAXVEns",
        "outputId": "b4e8994c-5428-45af-937d-25945e9d198b"
      },
      "source": [
        "plota_fronteira_decisao(p, X, y_OR, 'Fronteira de decisão OR')"
      ],
      "execution_count": 20,
      "outputs": [
        {
          "output_type": "display_data",
          "data": {
            "image/png": "[encoded data removed]",
            "text/plain": [
              "<Figure size 432x288 with 2 Axes>"
            ]
          },
          "metadata": {
            "tags": [],
            "needs_background": "light"
          }
        }
      ]
    },
    {
      "cell_type": "markdown",
      "metadata": {
        "id": "74pbJD5p1jqS"
      },
      "source": [
        "## Relação XOR (não linear!!!)\n",
        "![XOR.png](data:image/png;base64,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)\n"
      ]
    },
    {
      "cell_type": "code",
      "metadata": {
        "colab": {
          "base_uri": "https://localhost:8080/"
        },
        "id": "w3VFG7TL1oj7",
        "outputId": "82a9b99b-5266-4176-c942-e035115a6fb7"
      },
      "source": [
        "# Dados de entrada\n",
        "X = np.array([[0, 0],\n",
        "              [0, 1],\n",
        "              [1, 0],\n",
        "              [1, 1]],\n",
        "            dtype=np.float)\n",
        "# Saídas XOR\n",
        "y_XOR = np.array([0, 1, 1, 0])\n",
        "\n",
        "# Criando um peceptron\n",
        "p = Perceptron()\n",
        "\n",
        "# Treinando um perceptron\n",
        "p.fit(X, y_XOR)"
      ],
      "execution_count": 21,
      "outputs": [
        {
          "output_type": "execute_result",
          "data": {
            "text/plain": [
              "Perceptron(alpha=0.0001, class_weight=None, early_stopping=False, eta0=1.0,\n",
              "           fit_intercept=True, max_iter=1000, n_iter_no_change=5, n_jobs=None,\n",
              "           penalty=None, random_state=0, shuffle=True, tol=0.001,\n",
              "           validation_fraction=0.1, verbose=0, warm_start=False)"
            ]
          },
          "metadata": {
            "tags": []
          },
          "execution_count": 21
        }
      ]
    },
    {
      "cell_type": "markdown",
      "metadata": {
        "id": "jKOxOSxF1xBK"
      },
      "source": [
        "## Predição (teste do perceptron treinado)\n",
        "\n",
        "O perceptron treinado não é capaz de aprender a relação XOR, pois trata-se de um problema de classificação **não linear**!!!\n"
      ]
    },
    {
      "cell_type": "code",
      "metadata": {
        "colab": {
          "base_uri": "https://localhost:8080/"
        },
        "id": "2azMhEZm2ZfC",
        "outputId": "ce3c0e75-e594-4ac2-bc53-7659a83d957b"
      },
      "source": [
        "p.predict(X)"
      ],
      "execution_count": 22,
      "outputs": [
        {
          "output_type": "execute_result",
          "data": {
            "text/plain": [
              "array([0, 0, 0, 0])"
            ]
          },
          "metadata": {
            "tags": []
          },
          "execution_count": 22
        }
      ]
    },
    {
      "cell_type": "markdown",
      "metadata": {
        "id": "bvCeRrisc9ng"
      },
      "source": [
        "## Plota a fronteira de decisão definida pelo Perceptron"
      ]
    },
    {
      "cell_type": "code",
      "metadata": {
        "colab": {
          "base_uri": "https://localhost:8080/",
          "height": 281
        },
        "id": "CNWvu5_BQm4J",
        "outputId": "e7d5970c-84f2-4c14-fd2a-b4c36b7fcab1"
      },
      "source": [
        "plota_fronteira_decisao(p, X, y_XOR, 'Fronteira de decisão XOR')"
      ],
      "execution_count": 23,
      "outputs": [
        {
          "output_type": "display_data",
          "data": {
            "image/png": "[encoded data removed]",
            "text/plain": [
              "<Figure size 432x288 with 2 Axes>"
            ]
          },
          "metadata": {
            "tags": [],
            "needs_background": "light"
          }
        }
      ]
    }
  ]
}