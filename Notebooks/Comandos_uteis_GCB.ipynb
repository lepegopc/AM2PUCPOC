{
  "nbformat": 4,
  "nbformat_minor": 0,
  "metadata": {
    "colab": {
      "name": "Comandos_uteis_GCB.ipynb",
      "provenance": [],
      "collapsed_sections": []
    },
    "kernelspec": {
      "name": "python3",
      "display_name": "Python 3"
    },
    "accelerator": "GPU"
  },
  "cells": [
    {
      "cell_type": "markdown",
      "metadata": {
        "id": "WM1kFPRBHuee"
      },
      "source": [
        "\n",
        "\n",
        "---\n",
        "\n",
        "---\n",
        "\n",
        "\n",
        "\n",
        "\n",
        "## **BLOCOS DE COMANDOS ÚTEIS PARA O COLAB**\n",
        "\n",
        "\n",
        "---\n",
        "\n",
        "---\n",
        "\n",
        "\n",
        "\n"
      ]
    },
    {
      "cell_type": "markdown",
      "metadata": {
        "id": "p9Cmn3eaIdzC"
      },
      "source": [
        "### **Fazer *upload* de arquivos**\n",
        "Atenção: se você recarregar a página, trocar de runtime, trocar de sessão… você vai perder seus dados!\n",
        "\n"
      ]
    },
    {
      "cell_type": "code",
      "metadata": {
        "id": "NE44QxlXHtvY"
      },
      "source": [
        "from google.colab import files\n",
        "uploaded = files.upload()"
      ],
      "execution_count": null,
      "outputs": []
    },
    {
      "cell_type": "markdown",
      "metadata": {
        "id": "EQ_ILLIpJ4Oo"
      },
      "source": [
        "### **Montar um drive <--> Google Drive** \n",
        "\n",
        "[Mais detalhes](https://www.marktechpost.com/2019/06/07/how-to-connect-google-colab-with-google-drive/)"
      ]
    },
    {
      "cell_type": "code",
      "metadata": {
        "id": "BTO5fGIBKoOg"
      },
      "source": [
        "from google.colab import drive\n",
        "drive.mount('/content/drive')"
      ],
      "execution_count": null,
      "outputs": []
    },
    {
      "cell_type": "markdown",
      "metadata": {
        "id": "MCFUOpQ0L7pn"
      },
      "source": [
        "### **Descompactar arquivo**\r\n"
      ]
    },
    {
      "cell_type": "code",
      "metadata": {
        "id": "mx2DzaV1L5Rt"
      },
      "source": [
        "!unzip -uq \"/content/drive/My Drive/PATH_TO_ZIP\" -d \"/content/drive/My Drive/PATH_TO_OUTPUT\""
      ],
      "execution_count": null,
      "outputs": []
    },
    {
      "cell_type": "markdown",
      "metadata": {
        "id": "cHIoiEpQM9nj"
      },
      "source": [
        "### **Confirmação de conexão com GPU** (se quiser fazer um teste de *speedup* CPU X GPU [clique aqui](https://colab.research.google.com/notebooks/gpu.ipynb#scrollTo=oM_8ELnJq_wd))\n",
        "\n",
        "Primeiro, você precisará habilitar GPUs para o notebook (de CPU default para GPU):\n",
        "\n",
        "Navegue até Editar → Configurações do Notebook\n",
        "\n",
        "1.   Navegue até Editar → Configurações do Notebook\n",
        "2.   Selecione GPU no menu suspenso do Hardware Accelerator\n",
        "\n",
        "Depois, confirme a conexão com a GPU executando o código abaixo:\n",
        "\n",
        "\n",
        "\n"
      ]
    },
    {
      "cell_type": "code",
      "metadata": {
        "id": "f87L1TthM852"
      },
      "source": [
        "%tensorflow_version 2.x\n",
        "import tensorflow as tf\n",
        "device_name = tf.test.gpu_device_name()\n",
        "if device_name != '/device:GPU:0':\n",
        "  raise SystemError('GPU device not found')\n",
        "print('Found GPU at: {}'.format(device_name))"
      ],
      "execution_count": null,
      "outputs": []
    },
    {
      "cell_type": "markdown",
      "metadata": {
        "id": "4gE5tf-9Q-Gq"
      },
      "source": [
        "### **Mostrar especificações de hardware e pacotes**"
      ]
    },
    {
      "cell_type": "markdown",
      "metadata": {
        "id": "ySGInt9-RI6X"
      },
      "source": [
        "**CPU:**"
      ]
    },
    {
      "cell_type": "code",
      "metadata": {
        "id": "BSNrnZ86RQYv"
      },
      "source": [
        "!lscpu"
      ],
      "execution_count": null,
      "outputs": []
    },
    {
      "cell_type": "markdown",
      "metadata": {
        "id": "M2MP3QDrSc_6"
      },
      "source": [
        "**GPU:**"
      ]
    },
    {
      "cell_type": "code",
      "metadata": {
        "id": "Vzvxxe2TSj0u"
      },
      "source": [
        "from tensorflow.python.client import device_lib\n",
        "device_lib.list_local_devices()"
      ],
      "execution_count": null,
      "outputs": []
    },
    {
      "cell_type": "code",
      "metadata": {
        "id": "04HFQlJes20n"
      },
      "source": [
        "import tensorflow as tf\r\n",
        "print(\"Num GPUs Available: \", len(tf.config.experimental.list_physical_devices('GPU')))"
      ],
      "execution_count": null,
      "outputs": []
    },
    {
      "cell_type": "markdown",
      "metadata": {
        "id": "iVtvCyJQRaF_"
      },
      "source": [
        "**Memória:**"
      ]
    },
    {
      "cell_type": "code",
      "metadata": {
        "id": "_EWbPEW8RmA_"
      },
      "source": [
        "!df -k"
      ],
      "execution_count": null,
      "outputs": []
    },
    {
      "cell_type": "markdown",
      "metadata": {
        "id": "YAPd9aTXT98n"
      },
      "source": [
        "**SO:**"
      ]
    },
    {
      "cell_type": "code",
      "metadata": {
        "id": "wDbIvLj9UAq1"
      },
      "source": [
        "!cat /etc/os-release"
      ],
      "execution_count": null,
      "outputs": []
    },
    {
      "cell_type": "markdown",
      "metadata": {
        "id": "ldzI8oSzUSjo"
      },
      "source": [
        "**Pacotes:**"
      ]
    },
    {
      "cell_type": "code",
      "metadata": {
        "id": "j5bxorWgUVQ0"
      },
      "source": [
        "pip freeze"
      ],
      "execution_count": null,
      "outputs": []
    },
    {
      "cell_type": "code",
      "metadata": {
        "id": "G6Co1zmqJJgz"
      },
      "source": [
        "pip show tensorflow"
      ],
      "execution_count": null,
      "outputs": []
    },
    {
      "cell_type": "code",
      "metadata": {
        "id": "-IPcIR11JOs8"
      },
      "source": [
        "pip show keras"
      ],
      "execution_count": null,
      "outputs": []
    }
  ]
}