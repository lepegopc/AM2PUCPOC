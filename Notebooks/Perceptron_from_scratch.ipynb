{
  "nbformat": 4,
  "nbformat_minor": 0,
  "metadata": {
    "colab": {
      "name": "Perceptron_from_scratch.ipynb",
      "provenance": [],
      "collapsed_sections": []
    },
    "kernelspec": {
      "name": "python3",
      "display_name": "Python 3"
    }
  },
  "cells": [
    {
      "cell_type": "markdown",
      "metadata": {
        "id": "NfKp9eI2WsO_"
      },
      "source": [
        "---\r\n",
        "\r\n",
        "---\r\n",
        "\r\n",
        "## Implementação de um neurônio (PERCEPTRON) para aprendizado das relações lógicas AND e OR, e \"tentativa\" de aprendizado da relação XOR\r\n",
        "\r\n",
        "---\r\n",
        "\r\n",
        "---"
      ]
    },
    {
      "cell_type": "markdown",
      "metadata": {
        "id": "oDi1DY3JXWKM"
      },
      "source": [
        "### Bibliotecas"
      ]
    },
    {
      "cell_type": "code",
      "metadata": {
        "id": "3kGKOBFBWmY5"
      },
      "source": [
        "import random\r\n",
        "import matplotlib.pyplot as plt\r\n",
        "import numpy as np"
      ],
      "execution_count": null,
      "outputs": []
    },
    {
      "cell_type": "markdown",
      "metadata": {
        "id": "6miPZK48Xdgz"
      },
      "source": [
        "### Função que imprime menu de opções (AND, OR ou XOR)"
      ]
    },
    {
      "cell_type": "code",
      "metadata": {
        "id": "IV6BRxd2Xqat"
      },
      "source": [
        "def menu():\r\n",
        "    Valid_Option = False\r\n",
        "    while Valid_Option == False:\r\n",
        "        print(\"\\n\\n***** TREINAMENTO DE UM NEURÔNIO *******\")\r\n",
        "        print(\"\\nESCOLHA A RELAÇÃO LÓGICA DESEJADA: \")\r\n",
        "        print(\"\\n(1)OR\");\r\n",
        "        print(\"\\n(2)AND\");\r\n",
        "        print(\"\\n(3)XOR\"); \r\n",
        "        Option = input(\"\\nOpção escolhida =>\\n\");\r\n",
        "        try:\r\n",
        "            Option = int(Option)\r\n",
        "            if (Option < 1) or (Option > 3):\r\n",
        "                print('\\nOPÇÃO INVÁLIDA!!')\r\n",
        "            else:\r\n",
        "                Valid_Option = True\r\n",
        "        except:\r\n",
        "            print(\"\\nA opção dever numérica. Digite 1, 2 ou 3.\")\r\n",
        "    return(Option)"
      ],
      "execution_count": null,
      "outputs": []
    },
    {
      "cell_type": "markdown",
      "metadata": {
        "id": "GlTpR74UXxJD"
      },
      "source": [
        "### Função que inicializa aleatoriamente os pesos sinápticos do neurônio com valores entre -1 e 1"
      ]
    },
    {
      "cell_type": "code",
      "metadata": {
        "id": "Mjd4X7izYZz7"
      },
      "source": [
        "def inicializa_pesos(w):  \r\n",
        "    for i in range(0,3):\r\n",
        "        w.append(random.random()*2-1)"
      ],
      "execution_count": null,
      "outputs": []
    },
    {
      "cell_type": "markdown",
      "metadata": {
        "id": "ZCZUqwnOZK_i"
      },
      "source": [
        "### Função que implementa a função de ativação do neurônio. No caso a função *heaviside*."
      ]
    },
    {
      "cell_type": "code",
      "metadata": {
        "id": "ylX7ri4nZXiU"
      },
      "source": [
        "def funcao_ativacao(s):\r\n",
        "    if (s >= 0):\r\n",
        "        return(1)\r\n",
        "    else:\r\n",
        "        return(0)   "
      ],
      "execution_count": null,
      "outputs": []
    },
    {
      "cell_type": "markdown",
      "metadata": {
        "id": "_F5xWpuEgYu-"
      },
      "source": [
        "### Função que implementa o treinamento (processo de aprendizagem) do neurônio"
      ]
    },
    {
      "cell_type": "code",
      "metadata": {
        "id": "YFz01wjNgeYG"
      },
      "source": [
        "def treina_neuronio(x1,x2,w,Learning_Rate,Out):\r\n",
        "    print(\"\\n\\nINICIANDO TREINAMENTO DO NEURÔNIO...\")\r\n",
        "    print(\"\\nPesos iniciais (aleatórios): w0 = \",round(w[0],4),\" w1 = \",round(w[1],4),\"w2 = \", round(w[2],4))\r\n",
        "    print(\"\\nRazão de aprendizagem = \",Learning_Rate)\r\n",
        "    Epoch = 0\r\n",
        "    Global_Error = 1\r\n",
        "    while Global_Error != 0:\r\n",
        "        Global_Error = 0;\r\n",
        "        for i in range(0,4):\r\n",
        "            sum = w[0] + x1[i]*w[1] + x2[i]*w[2]\r\n",
        "            y = funcao_ativacao(sum) \r\n",
        "            Error = Out[i] - y\r\n",
        "            w[0] = w[0] + Learning_Rate*Error*1\r\n",
        "            w[1] = w[1] + Learning_Rate*Error*x1[i]\r\n",
        "            w[2] = w[2] + Learning_Rate*Error*x2[i]\r\n",
        "            Global_Error +=abs(Error) #soma acumulada dos MÓDULOS dos erros (para evitar de um erro (-1) anular o outro (+1)        \r\n",
        "        Epoch+=1\r\n",
        "        print(\"\\nSeção de treinamento \"+str(Epoch)+\": w0 = \", round(w[0],4),\" w1 = \",round(w[1],4),\" w2 = \",round(w[2],4),\" ERRO = \",Global_Error)\r\n",
        "        if Epoch > 100:  #mínimo local\r\n",
        "            print(\"\\n\\nTreinamento interrompido!!\")\r\n",
        "            print(\"\\nNão foi possível treinar o neurônio para a relação desejada.\")\r\n",
        "            Opcao = input(\"\\nDeseja reiniciar o treinamento com outros pesos sinápticos? (S|N)\\n\")\r\n",
        "            if Opcao.upper() != 'N':\r\n",
        "                w = []\r\n",
        "                inicializa_pesos(w)\r\n",
        "                Epoch = 0\r\n",
        "                Global_Error = 1\r\n",
        "            else:\r\n",
        "                break                \r\n",
        "    print(\"\\nFIM DO TREINAMENTO!\\n\")\r\n",
        "    print(\"Valores finais dos pesos sinápticos:\")\r\n",
        "    print(\"\\nw0 = \",round(w[0],4))\r\n",
        "    print(\"w1 = \",round(w[1],4))\r\n",
        "    print(\"w2 = \",round(w[2],4))"
      ],
      "execution_count": null,
      "outputs": []
    },
    {
      "cell_type": "markdown",
      "metadata": {
        "id": "DJjiy8eTgiPT"
      },
      "source": [
        "### Função que testa o neurônio depois de treinado"
      ]
    },
    {
      "cell_type": "code",
      "metadata": {
        "id": "vxqaeYTcgo4D"
      },
      "source": [
        "def testa_neuronio(w):\r\n",
        "    print(\"\\nTESTE DO NEURÔNIO TREINADO...\")\r\n",
        "    Opcao = 'S'\r\n",
        "    while Opcao.upper() != 'N':\r\n",
        "        print(\"\\nDigite as entradas que deseja testar\\n\")\r\n",
        "        x1 = float(input(\"x1 = \"))\r\n",
        "        x2 = float(input(\"\\nx2 = \"))\r\n",
        "        sum = w[0] + x1*w[1] + x2*w[2]\r\n",
        "        print(\"\\n\\nSaída do neurônio = \",funcao_ativacao(sum))\r\n",
        "        Opcao = input(\"\\nDeseja testar outras entradas? (S|N)\\n\")\r\n",
        "    print(\"\\nFIM DOS TESTES!\")"
      ],
      "execution_count": null,
      "outputs": []
    },
    {
      "cell_type": "markdown",
      "metadata": {
        "id": "H6e3ofkOgqoj"
      },
      "source": [
        "### Função que plota o gráfico com os padrões de entrada e fronteira (linha) de decisão separando as classes"
      ]
    },
    {
      "cell_type": "code",
      "metadata": {
        "id": "R8dwL6Sng7ID"
      },
      "source": [
        "def plota_grafico(x1,x2,w,Correct_output,Label):\r\n",
        "    x = np.arange(-0.5, 1.5, 0.1)\r\n",
        "    y = -(w[1]/w[2])*x - w[0]/w[2] # separador linear\r\n",
        "    plt.plot(x, y,'k:')\r\n",
        "    plt.axis([-0.5, 1.5, -0.5, 1.5])\r\n",
        "    plt.xlabel('Entrada x1')\r\n",
        "    plt.ylabel('Entrada x2')\r\n",
        "    plt.grid(True)\r\n",
        "    plt.title('INTERPRETAÇÃO GEOMÉTRICA\\n\\nRelação '+ Label.upper())\r\n",
        "    if w[0]/w[2]/-(w[1]/w[2]) > 1:\r\n",
        "        plt.text((0.75 + w[0]/w[2])/-(w[1]/w[2]),0.75,' w1.x1 + w2.x2 = '+r'$\\theta$',fontstyle='italic')\r\n",
        "    else:\r\n",
        "        plt.text((0.25 + w[0]/w[2])/-(w[1]/w[2]),0.25,' w1.x1 + w2.x2 = '+r'$\\theta$',fontstyle='italic')\r\n",
        "    plt.text(-0.24,1.4,'w1 = ' + str(round(w[1],4)),fontsize=8,fontstyle='italic')\r\n",
        "    plt.text(0.35,1.4,'w2 = ' + str(round(w[2],4)),fontsize=8,fontstyle='italic')\r\n",
        "    plt.text(0.96,1.4,r'$\\theta$' + ' = ' + str(round(w[0],4)),fontsize=8,fontstyle='italic')\r\n",
        "    if  Label == 'OR':\r\n",
        "        plt.plot(x1[1:4], x2[1:4], 'bo')\r\n",
        "        plt.plot(x1[0], x2[0], 'ro')\r\n",
        "    elif Label == 'AND':\r\n",
        "            plt.plot(x1[0:3], x2[0:3], 'ro')\r\n",
        "            plt.plot(x1[3], x2[3], 'bo')\r\n",
        "    else:\r\n",
        "         plt.plot(x1[0], x2[0], 'ro')\r\n",
        "         plt.plot(x1[3], x2[3], 'ro')\r\n",
        "         plt.plot(x1[1:3], x2[1:3], 'bo')             \r\n",
        "    plt.show() "
      ],
      "execution_count": null,
      "outputs": []
    },
    {
      "cell_type": "markdown",
      "metadata": {
        "id": "Lr34NNd9g8Q9"
      },
      "source": [
        "### Parte principal do programa"
      ]
    },
    {
      "cell_type": "code",
      "metadata": {
        "id": "MKBpIeGzhGzs"
      },
      "source": [
        "# entradas\r\n",
        "x1 = [0, 0, 1, 1]\r\n",
        "x2 = [0, 1, 0, 1]\r\n",
        "# razão (passo) de aprendizagem\r\n",
        "Learning_Rate = 0.2 \r\n",
        "Repetir = 'S'\r\n",
        "while Repetir.upper() != 'N':\r\n",
        "    #inicializa pesos sinápticos\r\n",
        "    w = []\r\n",
        "    inicializa_pesos(w)\r\n",
        "    Option = menu()\r\n",
        "    if Option == 1: # Relação OR\r\n",
        "        Correct_output = [0, 1, 1, 1]\r\n",
        "        Label = 'OR'\r\n",
        "    elif Option == 2: # Relação AND\r\n",
        "        Correct_output = [0, 0, 0, 1]\r\n",
        "        Label = 'AND'\r\n",
        "    else:  # Relação XOR \r\n",
        "        Correct_output = [0, 1, 1, 0]\r\n",
        "        Label = 'XOR'\r\n",
        "    treina_neuronio(x1,x2,w,Learning_Rate,Correct_output)\r\n",
        "    Opcao = input(\"\\nDeseja visualizar o gráfico de classificação? (S|N)\\n\")\r\n",
        "    if Opcao.upper() != 'N':\r\n",
        "        plota_grafico(x1,x2,w,Correct_output,Label)\r\n",
        "    Opcao = input(\"\\nDeseja testar o neurônio treinado? (S|N)\\n\")\r\n",
        "    if Opcao.upper() != 'N':\r\n",
        "        testa_neuronio(w)\r\n",
        "    Repetir = input(\"\\nDeseja realizar outro treinamento? (S|N)\\n\")\r\n",
        "print(\"\\nFIM DO PROGRAMA!\")   \r\n",
        "   \r\n"
      ],
      "execution_count": null,
      "outputs": []
    }
  ]
}